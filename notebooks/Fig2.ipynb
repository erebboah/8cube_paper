{
 "cells": [
  {
   "cell_type": "markdown",
   "id": "d7c16b06-f1d3-4a1a-9852-44543a1cfe14",
   "metadata": {},
   "source": [
    "# Fig. 2a\n"
   ]
  },
  {
   "cell_type": "code",
   "execution_count": 1,
   "id": "2e66f987-957c-4e1f-b42d-fd6ace61d3a6",
   "metadata": {},
   "outputs": [
    {
     "name": "stderr",
     "output_type": "stream",
     "text": [
      "<frozen importlib._bootstrap>:219: RuntimeWarning: scipy._lib.messagestream.MessageStream size changed, may indicate binary incompatibility. Expected 56 from C header, got 64 from PyObject\n"
     ]
    }
   ],
   "source": [
    "import pandas as pd\n",
    "import PyComplexHeatmap as pch\n",
    "import pandas as pd\n",
    "import seaborn as sns\n",
    "import matplotlib.pyplot as plt\n",
    "import numpy as np\n"
   ]
  },
  {
   "cell_type": "code",
   "execution_count": 2,
   "id": "96b2d759-96cd-4267-a854-7178213b9dd6",
   "metadata": {},
   "outputs": [],
   "source": [
    "tissues = [\"Gastrocnemius\", \n",
    "           \"Heart\", \n",
    "           \"Adrenal\", \n",
    "           \"GonadsFemale\",\n",
    "           \"GonadsMale\",\n",
    "           \"CortexHippocampus\",\n",
    "           \"DiencephalonPituitary\",\n",
    "           \"Liver\",\n",
    "           \"Kidney\"\n",
    "]"
   ]
  },
  {
   "cell_type": "code",
   "execution_count": 3,
   "id": "d5ed686b-6f8e-4bf1-b5b1-cf770ebe18ef",
   "metadata": {},
   "outputs": [],
   "source": [
    "lfc_cutoff = 1\n",
    "padj_cutoff = 0.01\n"
   ]
  },
  {
   "cell_type": "markdown",
   "id": "6104e6d6-f575-4c15-aea3-b178897b613d",
   "metadata": {},
   "source": [
    "## Read in data\n",
    "\n",
    "Old DEG results"
   ]
  },
  {
   "cell_type": "code",
   "execution_count": null,
   "id": "6b99c5d8-bea2-4006-ae97-e3d1ffcedc2b",
   "metadata": {},
   "outputs": [
    {
     "name": "stderr",
     "output_type": "stream",
     "text": [
      "/tmp/ipykernel_1878618/203303918.py:11: SettingWithCopyWarning: \n",
      "A value is trying to be set on a copy of a slice from a DataFrame\n",
      "\n",
      "See the caveats in the documentation: https://pandas.pydata.org/pandas-docs/stable/user_guide/indexing.html#returning-a-view-versus-a-copy\n",
      "  geno_degs.rename(columns={'celltype': 'subtype'}, inplace=True)\n",
      "/tmp/ipykernel_1878618/203303918.py:11: SettingWithCopyWarning: \n",
      "A value is trying to be set on a copy of a slice from a DataFrame\n",
      "\n",
      "See the caveats in the documentation: https://pandas.pydata.org/pandas-docs/stable/user_guide/indexing.html#returning-a-view-versus-a-copy\n",
      "  geno_degs.rename(columns={'celltype': 'subtype'}, inplace=True)\n",
      "/tmp/ipykernel_1878618/203303918.py:11: SettingWithCopyWarning: \n",
      "A value is trying to be set on a copy of a slice from a DataFrame\n",
      "\n",
      "See the caveats in the documentation: https://pandas.pydata.org/pandas-docs/stable/user_guide/indexing.html#returning-a-view-versus-a-copy\n",
      "  geno_degs.rename(columns={'celltype': 'subtype'}, inplace=True)\n",
      "/tmp/ipykernel_1878618/203303918.py:11: SettingWithCopyWarning: \n",
      "A value is trying to be set on a copy of a slice from a DataFrame\n",
      "\n",
      "See the caveats in the documentation: https://pandas.pydata.org/pandas-docs/stable/user_guide/indexing.html#returning-a-view-versus-a-copy\n",
      "  geno_degs.rename(columns={'celltype': 'subtype'}, inplace=True)\n"
     ]
    }
   ],
   "source": [
    "merged_all_tissues = []\n",
    "for tissue in tissues:\n",
    "    \n",
    "    df_genes = pd.read_csv(f'/share/crsp/lab/seyedam/share/igvf_pipeline/figures/degs_old_pbulk_strategy/{tissue}/results_de_analysis_celltypes_no_min_cells.csv')\n",
    "    ct_degs = df_genes[(df_genes['log2FoldChange'] >= lfc_cutoff) & (df_genes['padj'] <= padj_cutoff)]\n",
    "    ct_degs = ct_degs[['gene_name','subtype', 'tissue']].drop_duplicates()\n",
    "    ct_degs['celltype_deg'] = \"Yes\"\n",
    "\n",
    "    geno_degs_unfilt = pd.read_csv('/share/crsp/lab/seyedam/share/igvf_pipeline/figures/specificity/sig_degs_all_tissues_b6j.csv', index_col = 0)\n",
    "    geno_degs = geno_degs_unfilt[geno_degs_unfilt['tissue'] == tissue]\n",
    "    geno_degs.rename(columns={'celltype': 'subtype'}, inplace=True)\n",
    "    geno_degs = geno_degs[['gene_name', 'subtype', 'genotype', 'tissue']].drop_duplicates()\n",
    "    geno_degs['genotype_deg'] = \"Yes\"\n",
    "    \n",
    "    merged_df = pd.merge(geno_degs, ct_degs, \n",
    "                         on=['gene_name', 'subtype', 'tissue'], how=\"outer\")\n",
    "    \n",
    "    merged_all_tissues.append(merged_df)\n",
    "    \n",
    "final_merged_df = pd.concat(merged_all_tissues, ignore_index=True)\n"
   ]
  },
  {
   "cell_type": "markdown",
   "id": "048a2aa4-3b05-4013-bef4-d78f2f58bf4f",
   "metadata": {},
   "source": [
    "## Start categorizing genes\n",
    "Since I merged by celltype, if it's both celltype and genotype, it's both in the same celltype.\n"
   ]
  },
  {
   "cell_type": "code",
   "execution_count": null,
   "id": "fdb377a2-03df-4123-b130-6dec793daad2",
   "metadata": {},
   "outputs": [],
   "source": [
    "final_merged_df['DEG_type'] = final_merged_df.apply(\n",
    "    lambda row: 'both' if row['celltype_deg'] == 'Yes' and row['genotype_deg'] == 'Yes' else\n",
    "               'celltype' if row['celltype_deg'] == 'Yes' else\n",
    "               'genotype' if row['genotype_deg'] == 'Yes' else\n",
    "               'No', axis=1)"
   ]
  },
  {
   "cell_type": "code",
   "execution_count": null,
   "id": "740d5296-f4aa-4594-a1e0-25c27830f3e0",
   "metadata": {},
   "outputs": [],
   "source": [
    "# is DE in at LEAST one genotype, at LEAST one celltype\n",
    "final_merged_df_sub = final_merged_df[['gene_name', 'tissue', 'DEG_type']].drop_duplicates()\n"
   ]
  },
  {
   "cell_type": "code",
   "execution_count": null,
   "id": "31b5b26b-ddbc-44dc-9d35-fd6e2ce4623d",
   "metadata": {},
   "outputs": [],
   "source": [
    "all_tissues_df = pd.DataFrame()\n",
    "\n",
    "for tissue in tissues:\n",
    "    tissue_df = final_merged_df_sub[final_merged_df_sub['tissue'] == tissue]\n",
    "\n",
    "    df = tissue_df.copy()\n",
    "\n",
    "    # Add a new column to classify 'both in same celltype' and 'both in different celltypes'\n",
    "    df['new_DEG_type'] = df['DEG_type']  # Start by copying the existing DEG_type\n",
    "\n",
    "    # Identify 'both in same celltype'\n",
    "    both_same = df[df['DEG_type'] == 'both'].drop_duplicates()\n",
    "    df = df[~df['gene_name'].isin(both_same['gene_name'])]  # Remove all instances of these genes\n",
    "    df = pd.concat([df, both_same.assign(new_DEG_type='both (same celltype)')])  # Add them back with the updated label\n",
    "\n",
    "    # Identify 'both in different celltypes'\n",
    "    both_different_genes = df.groupby('gene_name')['DEG_type'].apply(lambda x: set(x) == {'genotype', 'celltype'})\n",
    "    both_different = df[df['gene_name'].isin(both_different_genes[both_different_genes].index)]\n",
    "    df = df[~df['gene_name'].isin(both_different['gene_name'])].drop_duplicates()  # Remove all instances of these genes\n",
    "    df = pd.concat([df, both_different.assign(new_DEG_type='both (different celltypes)')])  # Add them back with the updated label\n",
    "\n",
    "    # Keep only one row per gene_name, now prioritized by the new_DEG_type\n",
    "    df = df.sort_values(by=['gene_name', 'new_DEG_type']).drop_duplicates(subset='gene_name')\n",
    "\n",
    "    # Add the tissue column back and combine the results\n",
    "    df['tissue'] = tissue\n",
    "    \n",
    "    #dupes = df['gene_name'].duplicated().sum()\n",
    "    #print(f'{tissue}: {dupes} duplicated genes')\n",
    "    all_tissues_df = pd.concat([all_tissues_df, df])\n",
    "\n",
    "# Reset the index of the combined DataFrame\n",
    "all_tissues_df.reset_index(drop=True, inplace=True)\n",
    "\n"
   ]
  },
  {
   "cell_type": "markdown",
   "id": "7ce514a8-7b87-419d-8cdd-653c511eed89",
   "metadata": {},
   "source": [
    "## Plot"
   ]
  },
  {
   "cell_type": "code",
   "execution_count": null,
   "id": "2b8ba8db-379e-45f6-bb88-8983a752df1f",
   "metadata": {},
   "outputs": [],
   "source": [
    "plot_data = all_tissues_df.groupby(['tissue', 'new_DEG_type']).size().unstack(fill_value=0)\n",
    "\n",
    "tissues = [\n",
    "    'CortexHippocampus',\n",
    "    'DiencephalonPituitary',\n",
    "    'Heart',\n",
    "    'GonadsFemale',\n",
    "    'Adrenal',\n",
    "    'Gastrocnemius',\n",
    "    'Kidney',\n",
    "    'Liver',\n",
    "    'GonadsMale'\n",
    "][::-1]\n",
    "\n",
    "desired_order = ['genotype', 'both (same celltype)', 'both (different celltypes)','celltype']\n",
    "colors = ['#e377c2', '#9467bd', '#ba9cd4', '#17becf']\n",
    "\n",
    "plot_data = plot_data.loc[tissues, desired_order]\n",
    "\n",
    "fig, ax = plt.subplots(figsize=(8, 5), dpi=200)\n",
    "bottoms = [0] * len(plot_data)\n",
    "\n",
    "plt.xticks(rotation=45, ha='right', fontsize=12)\n",
    "\n",
    "for i, category in enumerate(plot_data.columns):\n",
    "    counts = plot_data[category]\n",
    "    ax.barh(\n",
    "        plot_data.index,\n",
    "        counts,\n",
    "        left=bottoms,\n",
    "        color=colors[i],\n",
    "        label=category\n",
    "    )\n",
    "    bottoms = [x + y for x, y in zip(bottoms, counts)]\n",
    "\n",
    "ax.set_ylabel('# Genes')\n",
    "ax.set_title('Number of DEGs',fontsize=13)\n",
    "ax.legend(\n",
    "    title='DEG Type', \n",
    "    loc='upper left', \n",
    "    bbox_to_anchor=(1.05, 1) \n",
    ")\n",
    "plt.tight_layout()\n",
    "plt.yticks(fontsize=13)\n",
    "ax.set_ylabel('')\n",
    "\n",
    "\n",
    "plt.show()\n"
   ]
  },
  {
   "cell_type": "markdown",
   "id": "5dcfbeba-a046-4de3-a98e-d4276b536dc5",
   "metadata": {},
   "source": [
    "## Plot version only with both in same celltype\n",
    "\n",
    "Because I think it's misleading to collapse them..."
   ]
  },
  {
   "cell_type": "code",
   "execution_count": null,
   "id": "9d2dd9d5-d20e-4505-911c-e2058d73c85f",
   "metadata": {},
   "outputs": [],
   "source": [
    "all_tissues_df_filt = all_tissues_df[all_tissues_df['new_DEG_type'] != 'both (different celltypes)']\n",
    "all_tissues_df_filt['new_DEG_type'] = all_tissues_df_filt['new_DEG_type'].replace('both (same celltype)', 'both')\n"
   ]
  },
  {
   "cell_type": "code",
   "execution_count": null,
   "id": "ebd7a45b-5b9d-4fd6-98e3-06b679e517e9",
   "metadata": {},
   "outputs": [],
   "source": [
    "plot_data = all_tissues_df_filt.groupby(['tissue', 'new_DEG_type']).size().unstack(fill_value=0)\n",
    "\n",
    "tissues = [\n",
    "    'CortexHippocampus',\n",
    "    'DiencephalonPituitary',\n",
    "    'Heart',\n",
    "    'GonadsFemale',\n",
    "    'Adrenal',\n",
    "    'Gastrocnemius',\n",
    "    'Kidney',\n",
    "    'Liver',\n",
    "    'GonadsMale'\n",
    "][::-1]\n",
    "\n",
    "desired_order = ['genotype', 'both', 'celltype']\n",
    "colors = ['#e377c2', '#9467bd', '#17becf']\n",
    "\n",
    "plot_data = plot_data.loc[tissues, desired_order]\n",
    "\n",
    "fig, ax = plt.subplots(figsize=(6, 5), dpi=200)\n",
    "bottoms = [0] * len(plot_data)\n",
    "plt.xticks(rotation=45, ha='right', fontsize=12)\n",
    "\n",
    "for i, category in enumerate(plot_data.columns):\n",
    "    counts = plot_data[category]\n",
    "    ax.barh(\n",
    "        plot_data.index,\n",
    "        counts,\n",
    "        left=bottoms,\n",
    "        color=colors[i],\n",
    "        label=category\n",
    "    )\n",
    "    bottoms = [x + y for x, y in zip(bottoms, counts)]\n",
    "\n",
    "# Add labels and legend\n",
    "ax.set_ylabel('# Genes')\n",
    "ax.set_title('Number of DEGs',fontsize=13)\n",
    "ax.legend(\n",
    "    title='DEG Type', \n",
    "    loc='upper left', \n",
    "    bbox_to_anchor=(1.05, 1) \n",
    ")\n",
    "plt.tight_layout()\n",
    "plt.yticks(fontsize=13)\n",
    "ax.set_ylabel('')\n",
    "ax.set_xlim(0, 25000)\n",
    "\n",
    "plt.savefig('../fig2/deg_type_tissue_barplot.png',bbox_inches='tight', dpi=300)\n",
    "\n",
    "plt.show()\n"
   ]
  },
  {
   "cell_type": "markdown",
   "id": "08f538a4-459d-42c9-be95-4b20c4a5a4b7",
   "metadata": {},
   "source": [
    "# Fig. 2b"
   ]
  },
  {
   "cell_type": "markdown",
   "id": "27ae3be1-4117-4940-a681-a18f908808f2",
   "metadata": {},
   "source": [
    "## Read in celltype degs and geno degs separately"
   ]
  },
  {
   "cell_type": "code",
   "execution_count": null,
   "id": "7e42c5d0-0586-444b-a8f5-90e65cd76fdd",
   "metadata": {},
   "outputs": [],
   "source": [
    "all_tissues = []\n",
    "\n",
    "for tissue in tissues:\n",
    "    \n",
    "    df_genes = pd.read_csv(f'/share/crsp/lab/seyedam/share/igvf_pipeline/figures/degs_old_pbulk_strategy/{tissue}/results_de_analysis_celltypes_no_min_cells.csv')\n",
    "    ct_degs = df_genes[(df_genes['log2FoldChange'] >= lfc_cutoff) & (df_genes['padj'] <= padj_cutoff)]\n",
    "    ct_degs = ct_degs[['gene_name','subtype', 'tissue']].drop_duplicates()\n",
    "  \n",
    "    all_tissues.append(ct_degs)\n",
    "\n",
    "ct_degs = pd.concat(all_tissues, ignore_index=True)\n"
   ]
  },
  {
   "cell_type": "code",
   "execution_count": null,
   "id": "cda3d37d-4eb9-4be3-84e7-99c0b1ef2c7f",
   "metadata": {},
   "outputs": [],
   "source": [
    "geno_degs = pd.read_csv('/share/crsp/lab/seyedam/share/igvf_pipeline/figures/specificity/sig_degs_all_tissues_b6j.csv', index_col = 0)\n",
    "geno_degs.rename(columns={'celltype': 'subtype'}, inplace=True)\n",
    "geno_degs = geno_degs[['gene_name', 'subtype', 'genotype', 'tissue']].drop_duplicates()\n"
   ]
  },
  {
   "cell_type": "markdown",
   "id": "df86ada8-61b8-4201-9d34-175a5154b4b8",
   "metadata": {},
   "source": [
    "## Get size of celltypes relative to tissue using metadata file"
   ]
  },
  {
   "cell_type": "code",
   "execution_count": null,
   "id": "a88dac9a-1264-4c91-92e5-b9ad9715d86b",
   "metadata": {},
   "outputs": [],
   "source": [
    "sizes = pd.read_csv('/share/crsp/lab/seyedam/share/igvf_pipeline/IGVF_analysis/cellbender_tissues/obs_tables/all_tissues_annotated_metadata.csv')\n",
    "cell_counts = sizes.groupby(['subtype', 'Tissue']).size().reset_index(name='num_cells')\n",
    "cell_counts = cell_counts.rename(columns={'Tissue': 'tissue'})\n",
    "total_cells_per_tissue = cell_counts.groupby('tissue')['num_cells'].sum().reset_index(name='total_cells')\n",
    "cell_counts = cell_counts.merge(total_cells_per_tissue, on='tissue')\n",
    "cell_counts['percent_cells'] = (cell_counts['num_cells'] / cell_counts['total_cells']) * 100\n",
    "\n"
   ]
  },
  {
   "cell_type": "markdown",
   "id": "992eeeaa-b6b3-408f-b092-2343f42577c2",
   "metadata": {},
   "source": [
    "## Merge data"
   ]
  },
  {
   "cell_type": "code",
   "execution_count": null,
   "id": "8693a3d7-6429-4a3d-a9ba-80e7af7ab6a7",
   "metadata": {},
   "outputs": [],
   "source": [
    "ct_gene_counts = ct_degs[['subtype', 'tissue']].value_counts().reset_index(name='ct_gene_count')\n",
    "geno_gene_counts = geno_degs[['subtype', 'tissue']].value_counts().reset_index(name='geno_gene_count')\n",
    "gene_counts = pd.merge(ct_gene_counts, geno_gene_counts, on=['subtype', 'tissue'])\n",
    "merged_df = pd.merge(gene_counts, cell_counts[['subtype', 'tissue', 'percent_cells']], on=['subtype', 'tissue'], how='left')\n"
   ]
  },
  {
   "cell_type": "markdown",
   "id": "f7b9afcb-adc7-4417-974f-77d0042c7556",
   "metadata": {},
   "source": [
    "## Plot"
   ]
  },
  {
   "cell_type": "code",
   "execution_count": null,
   "id": "7b842782-75af-4c96-bf31-b8ea28f47665",
   "metadata": {},
   "outputs": [],
   "source": [
    "tissue_dict = {\n",
    "    'CortexHippocampus': '#F8C471',  \n",
    "    'Heart': '#AF7AC5',             \n",
    "    'Liver': '#F15922',               \n",
    "    'DiencephalonPituitary': '#27AE60',  \n",
    "    'Adrenal': '#8B4513',        \n",
    "    'Kidney': '#CF1E1A',              \n",
    "    'Gastrocnemius': '#FF69B4',        \n",
    "    'GonadsFemale': '#2FE3E5',       \n",
    "    'GonadsMale': '#00B7B8'     \n",
    "}\n",
    "\n",
    "\n",
    "merged_df['tissue_color'] = merged_df['tissue'].map(tissue_dict)\n",
    "\n",
    "plt.figure(figsize=(7.5, 6.25))\n",
    "scatter = plt.scatter(\n",
    "    x = merged_df['ct_gene_count'], \n",
    "    y = merged_df['geno_gene_count'],\n",
    "    s=merged_df['percent_cells'] * 10,  \n",
    "    c=merged_df['tissue_color'], \n",
    "    alpha=0.6, \n",
    ")\n",
    "\n",
    "handles, labels = [], []\n",
    "for genotype, color in tissue_dict.items():\n",
    "    handles.append(plt.Line2D([0], [0], marker='o', color='w', markerfacecolor=color, markersize=10))\n",
    "    labels.append(genotype)\n",
    "\n",
    "# plt.legend(handles=handles, \n",
    "#            labels=labels, \n",
    "#            bbox_to_anchor=(1.05, 1),  # Adjust position\n",
    "#            loc='upper left', \n",
    "#            title=\"Tissue\",fontsize=12,title_fontsize=12)\n",
    "\n",
    "plt.xlabel('Number of celltype DEGs',fontsize=18)\n",
    "plt.ylabel('Number of genotype DEGs',fontsize=18)\n",
    "plt.title('Number of DEGs per celltype',fontsize=18)\n",
    "\n",
    "plt.xticks(fontsize=16)\n",
    "plt.yticks(fontsize=16)\n",
    "\n",
    "plt.savefig('../fig2/celltype_deg_dotplot.png',bbox_inches='tight', dpi=300)\n",
    "\n",
    "plt.show()\n",
    "\n"
   ]
  },
  {
   "cell_type": "code",
   "execution_count": null,
   "id": "05490fec-851e-42d3-9f80-c0f1b1bc97e9",
   "metadata": {},
   "outputs": [],
   "source": [
    "tissue_dict = {\n",
    "    'CortexHippocampus': '#F8C471',  \n",
    "    'Heart': '#AF7AC5',             \n",
    "    'Liver': '#F15922',               \n",
    "    'DiencephalonPituitary': '#27AE60',  \n",
    "    'Adrenal': '#8B4513',        \n",
    "    'Kidney': '#CF1E1A',              \n",
    "    'Gastrocnemius': '#FF69B4',        \n",
    "    'GonadsFemale': '#2FE3E5',       \n",
    "    'GonadsMale': '#00B7B8'     \n",
    "}\n",
    "\n",
    "\n",
    "merged_df['tissue_color'] = merged_df['tissue'].map(tissue_dict)\n",
    "\n",
    "plt.figure(figsize=(7.5, 6.25))\n",
    "scatter = plt.scatter(\n",
    "    x = merged_df['ct_gene_count'], \n",
    "    y = merged_df['geno_gene_count'],\n",
    "    s=merged_df['percent_cells'] * 10,  \n",
    "    c=merged_df['tissue_color'], \n",
    "    alpha=0.6, \n",
    ")\n",
    "\n",
    "handles, labels = [], []\n",
    "for genotype, color in tissue_dict.items():\n",
    "    handles.append(plt.Line2D([0], [0], marker='o', color='w', markerfacecolor=color, markersize=10))\n",
    "    labels.append(genotype)\n",
    "\n",
    "plt.xlabel('Number of celltype DEGs',fontsize=18)\n",
    "plt.ylabel('Number of genotype DEGs',fontsize=18)\n",
    "plt.title('Number of DEGs per celltype',fontsize=18)\n",
    "\n",
    "plt.xticks(fontsize=16)\n",
    "plt.yticks(fontsize=16)\n",
    "\n",
    "# Label points with x > 4000 or y > 10,000\n",
    "for i, row in merged_df.iterrows():\n",
    "    if row['ct_gene_count'] > 4000 or row['geno_gene_count'] > 10000:\n",
    "        plt.text(\n",
    "            row['ct_gene_count'], \n",
    "            row['geno_gene_count'], \n",
    "            row['subtype'],  # You can use any identifier here, like gene name or index\n",
    "            fontsize=9, \n",
    "            ha='center', \n",
    "            va='center', \n",
    "            color='black')\n",
    "\n",
    "plt.show()\n",
    "\n"
   ]
  },
  {
   "cell_type": "markdown",
   "id": "3559d626-1d71-4703-ab9e-b6c94a4f4842",
   "metadata": {},
   "source": [
    "# Fig. 2c"
   ]
  },
  {
   "cell_type": "code",
   "execution_count": null,
   "id": "1b0468a5-a9e0-4420-8be0-ccda644f36c2",
   "metadata": {},
   "outputs": [],
   "source": [
    "import pandas as pd\n",
    "import PyComplexHeatmap as pch\n",
    "import seaborn as sns\n",
    "import pandas as pd\n",
    "import matplotlib.pyplot as plt\n",
    "import numpy as np"
   ]
  },
  {
   "cell_type": "code",
   "execution_count": null,
   "id": "38d34611-a055-4d80-a6b7-e308b2763353",
   "metadata": {},
   "outputs": [],
   "source": [
    "res = 0.2\n",
    "prop = 0.75"
   ]
  },
  {
   "cell_type": "code",
   "execution_count": null,
   "id": "49357227-e3b6-4a79-8b98-73eef79301b5",
   "metadata": {},
   "outputs": [],
   "source": [
    "tissues = ['CortexHippocampus',\n",
    "           'DiencephalonPituitary' ,\n",
    "           'Heart', \n",
    "           'GonadsFemale', \n",
    "           'Adrenal',\n",
    "           'Gastrocnemius', \n",
    "           'Kidney', \n",
    "           'Liver',\n",
    "           'GonadsMale'\n",
    "          ]"
   ]
  },
  {
   "cell_type": "markdown",
   "id": "95397ca0-6ed7-4049-8889-f1b1fda01f4a",
   "metadata": {},
   "source": [
    "## Read in subclustering results\n",
    "Old results..."
   ]
  },
  {
   "cell_type": "code",
   "execution_count": null,
   "id": "97ced033-3b07-4408-96ac-8f6edd4ca639",
   "metadata": {},
   "outputs": [],
   "source": [
    "all_tissues_data = []\n",
    "\n",
    "for tissue in tissues:\n",
    "    chisq_results = pd.read_csv(\n",
    "        f\"/share/crsp/lab/seyedam/share/igvf_pipeline/figures/subclustering_subtypes/{tissue}/{tissue}_proportion_results_fixed_prop{prop}_res{res}_fixed_hvgs_1217.csv\", \n",
    "        index_col=0\n",
    "    )\n",
    "    chisq_results = chisq_results[chisq_results['subtype'] != 'low quality']\n",
    "    grouped_df = chisq_results.groupby(['Genotype', 'subtype']).agg({\n",
    "        'ncells_specific_cluster': 'sum',\n",
    "        'ncells_total': 'sum'\n",
    "    }).reset_index()\n",
    "    \n",
    "    grouped_df['percentage_cells'] = (grouped_df['ncells_specific_cluster'] / grouped_df['ncells_total']) * 100\n",
    "    grouped_df['Tissue'] = tissue\n",
    "    all_tissues_data.append(grouped_df)\n",
    "\n",
    "combined_df = pd.concat(all_tissues_data)\n",
    "combined_df['subtype_tissue'] = combined_df['subtype'] + ' (' + combined_df['Tissue'] + ')'\n",
    "\n"
   ]
  },
  {
   "cell_type": "code",
   "execution_count": null,
   "id": "e1a1733b-93d9-425b-a09e-53cc4772be9e",
   "metadata": {},
   "outputs": [],
   "source": [
    "heatmap_df = combined_df.pivot_table(\n",
    "    index=['subtype_tissue','Tissue', 'subtype'], \n",
    "    columns='Genotype', \n",
    "    values='percentage_cells',\n",
    "    fill_value=0 \n",
    ").reset_index()\n",
    "\n",
    "plot_df = heatmap_df.set_index('subtype_tissue').drop(columns=['Tissue', 'subtype'])\n",
    "plot_df = plot_df.fillna(0)\n"
   ]
  },
  {
   "cell_type": "markdown",
   "id": "16774ae9-b030-4671-b880-b9a7fd87a63e",
   "metadata": {},
   "source": [
    "## Get size of celltypes, and sort by proportion in tissue"
   ]
  },
  {
   "cell_type": "code",
   "execution_count": null,
   "id": "784656f1-989b-4b95-82f5-6861964c0e6d",
   "metadata": {},
   "outputs": [],
   "source": [
    "df_row = heatmap_df[['subtype_tissue', 'subtype', 'Tissue']]\n",
    "df_row = df_row.drop_duplicates()\n",
    "\n",
    "sizes = pd.read_csv('/share/crsp/lab/seyedam/share/igvf_pipeline/IGVF_analysis/cellbender_tissues/obs_tables/all_tissues_annotated_metadata.csv')\n",
    "cell_counts = sizes.groupby(['subtype', 'Tissue']).size().reset_index(name='num_cells')\n",
    "total_cells_per_tissue = cell_counts.groupby('Tissue')['num_cells'].sum().reset_index(name='total_cells')\n",
    "cell_counts = cell_counts.merge(total_cells_per_tissue, on='Tissue')\n",
    "cell_counts['percent_cells'] = (cell_counts['num_cells'] / cell_counts['total_cells']) * 100\n",
    "\n",
    "df_row = df_row.merge(cell_counts, on=['subtype', 'Tissue'], how='left')\n",
    "df_row = df_row.set_index('subtype_tissue')\n",
    "df_row['Tissue'] = pd.Categorical(df_row['Tissue'], categories=tissues, ordered=True)\n",
    "df_row = df_row.sort_values(by=['Tissue', 'num_cells'], ascending=[True, False])\n"
   ]
  },
  {
   "cell_type": "code",
   "execution_count": null,
   "id": "c46c8324-c0dc-4fad-85b3-6a8654f4c07b",
   "metadata": {},
   "outputs": [],
   "source": [
    "tissue_dict = {\n",
    "    'CortexHippocampus': '#F8C471',  \n",
    "    'Heart': '#AF7AC5',             \n",
    "    'Liver': '#F15922',               \n",
    "    'DiencephalonPituitary': '#27AE60',  \n",
    "    'Adrenal': '#8B4513',        \n",
    "    'Kidney': '#CF1E1A',              \n",
    "    'Gastrocnemius': '#FF69B4',        \n",
    "    'GonadsFemale': '#2FE3E5',       \n",
    "    'GonadsMale': '#00B7B8'     \n",
    "}\n",
    "\n",
    "geno_dict = {\n",
    "    '129S1J': '#DA9CC1',  \n",
    "    'AJ': '#F4C245',             \n",
    "    'B6J': '#C0BFBF',               \n",
    "    'CASTJ': '#55AF5B',  \n",
    "    'NODJ': '#4F6EAF',        \n",
    "    'NZOJ': '#52A5DB',              \n",
    "    'PWKJ': '#D83026',        \n",
    "    'WSBJ': '#683C91'   \n",
    "}\n",
    "\n",
    "strain_dict = {'Lab': 'darkgrey', 'Wild': '#d3a021'}\n",
    "\n",
    "\n",
    "df_col = pd.DataFrame({\n",
    "    \"Genotype\": plot_df.columns,\n",
    "    \"Strain type\": [\"Wild\" if x in [\"CASTJ\",\"PWKJ\",\"WSBJ\"] else \"Lab\" for x in plot_df.columns]\n",
    "})\n",
    "df_col = df_col.drop_duplicates()\n",
    "\n",
    "genotype_categories = ['AJ','B6J','129S1J','NODJ','NZOJ','CASTJ','PWKJ','WSBJ']\n",
    "df_col['Genotype'] = pd.Categorical(df_col['Genotype'], categories=genotype_categories, ordered=True)\n",
    "df_col.sort_values(['Genotype'], inplace=True)\n",
    "df_col = df_col.set_index(\"Genotype\", drop=False)\n",
    "\n",
    "col_ha = pch.HeatmapAnnotation(Genotype=pch.anno_simple(df_col['Genotype'],colors=geno_dict),\n",
    "                               Type=pch.anno_simple(df_col['Strain type'],colors=strain_dict),\n",
    "                               verbose=1,\n",
    "                               label_kws = {'visible': False},\n",
    "                               axis=1)\n",
    "\n",
    "left_ha = pch.HeatmapAnnotation(Tissue=pch.anno_simple(df_row['Tissue'],colors=tissue_dict),vmin=0,\n",
    "                                label_kws = {'visible': False},\n",
    "                                plot_kws={'vmax': 100},\n",
    "                                axis=0)\n"
   ]
  },
  {
   "cell_type": "markdown",
   "id": "06832300-e6c8-49e7-af5d-72c0cfaf3c8a",
   "metadata": {},
   "source": [
    "## Plot full subclustering results"
   ]
  },
  {
   "cell_type": "code",
   "execution_count": null,
   "id": "799d7108-0859-4682-83ed-8929f8c27a16",
   "metadata": {},
   "outputs": [],
   "source": [
    "plt.figure(figsize=(4, 32), dpi = 100)\n",
    "\n",
    "cm = pch.ClusterMapPlotter(data=plot_df.loc[df_row.index.tolist(),df_col.index.tolist()],\n",
    "                           show_rownames = True, \n",
    "                           show_colnames = True, \n",
    "                           cmap = \"mako\",\n",
    "                           label = \"% nuclei\",\n",
    "                           top_annotation=col_ha, \n",
    "                           left_annotation=left_ha,\n",
    "                           row_cluster=False,\n",
    "                           col_cluster=False,\n",
    "                           row_split_gap = 1,\n",
    "                           row_split = df_row['Tissue'],\n",
    "                           row_split_order = tissues,\n",
    "                           yticklabels_kws={'labelsize': 8},\n",
    "                           xticklabels_kws={'labelsize': 14} \n",
    "                          )\n",
    "\n",
    "plt.show()\n"
   ]
  },
  {
   "cell_type": "markdown",
   "id": "d6b54ed6-2a92-48db-95d5-f94a15d1ab27",
   "metadata": {},
   "source": [
    "## Filter to cell types >5% of tissue"
   ]
  },
  {
   "cell_type": "code",
   "execution_count": null,
   "id": "69a087c8-1642-477b-b81b-08989c6ae250",
   "metadata": {},
   "outputs": [],
   "source": [
    "keep = cell_counts[cell_counts['percent_cells'] > 5]\n",
    "keep['subtype_tissue'] = keep['subtype'] + ' (' + keep['Tissue'] + ')'\n",
    "keep.shape"
   ]
  },
  {
   "cell_type": "code",
   "execution_count": null,
   "id": "adc02ba7-74e3-4b54-a55e-b0aeb86d3ce8",
   "metadata": {},
   "outputs": [],
   "source": [
    "filtered_plot_df = plot_df[plot_df.index.isin(keep['subtype_tissue'])]\n",
    "filtered_plot_df.reset_index(inplace = True)\n",
    "filtered_df_row = df_row[df_row.index.isin(keep['subtype_tissue'])]\n",
    "filtered_df_row.reset_index(inplace = True)\n"
   ]
  },
  {
   "cell_type": "code",
   "execution_count": null,
   "id": "33897d99-e670-4904-b784-c808be40de2e",
   "metadata": {},
   "outputs": [],
   "source": [
    "# check which subtypes appear in multiple tissues\n",
    "subtype_tissue_counts = filtered_df_row.groupby('subtype')['Tissue'].nunique()\n",
    "\n",
    "# update 'unique_subtype' column based on whether the subtype is in multiple tissues\n",
    "def modify_unique_subtype(row, subtype_tissue_counts):\n",
    "    if subtype_tissue_counts[row['subtype']] > 1:\n",
    "        # add tissue name\n",
    "        return f\"{row['subtype']} ({row['Tissue']})\"\n",
    "    else:\n",
    "        return row['subtype']\n",
    "\n",
    "filtered_df_row['unique_subtype'] = filtered_df_row.apply(lambda row: modify_unique_subtype(row, subtype_tissue_counts), axis=1)\n",
    "filtered_plot_df = pd.merge(filtered_plot_df, filtered_df_row[['subtype_tissue', 'unique_subtype']], on='subtype_tissue')\n",
    "filtered_plot_df = filtered_plot_df.set_index(\"unique_subtype\").drop(columns=[\"subtype_tissue\"])\n",
    "filtered_df_row = filtered_df_row.set_index(\"unique_subtype\")\n"
   ]
  },
  {
   "cell_type": "code",
   "execution_count": null,
   "id": "6ac3c788-82bd-433e-988e-02c8158589ba",
   "metadata": {},
   "outputs": [],
   "source": [
    "left_ha_filt = pch.HeatmapAnnotation(Tissue=pch.anno_simple(filtered_df_row['Tissue'],colors=tissue_dict),\n",
    "                                     label_kws = {'visible': False},\n",
    "                                     plot_kws={'vmax': 100},\n",
    "                                     axis=0)\n"
   ]
  },
  {
   "cell_type": "markdown",
   "id": "689ebc84-f4ca-4fa9-9a02-d221ce1e7e5b",
   "metadata": {},
   "source": [
    "## Plot"
   ]
  },
  {
   "cell_type": "code",
   "execution_count": null,
   "id": "6a306547-ac86-4c58-969a-f25fce6a67cf",
   "metadata": {},
   "outputs": [],
   "source": [
    "plt.figure(figsize=(3.4, 12), dpi = 300)\n",
    "\n",
    "cm = pch.ClusterMapPlotter(data=filtered_plot_df.loc[filtered_df_row.index.tolist(),df_col.index.tolist()],\n",
    "                           show_rownames = True, \n",
    "                           show_colnames = True, \n",
    "                           cmap = \"mako\",\n",
    "                           label = \"% nuclei\",\n",
    "                           top_annotation=col_ha, \n",
    "                           left_annotation=left_ha_filt,\n",
    "                           row_cluster=False,\n",
    "                           col_cluster=False,\n",
    "                           row_split_gap = 1,\n",
    "                           row_split = filtered_df_row['Tissue'],\n",
    "                           row_split_order = tissues,\n",
    "                           yticklabels_kws={'labelsize': 13},\n",
    "                           xticklabels_kws={'labelsize': 16} \n",
    "                          )\n",
    "\n",
    "plt.show()\n"
   ]
  },
  {
   "cell_type": "markdown",
   "id": "d88d066d-b6fb-49fd-8e19-d51eac370a20",
   "metadata": {},
   "source": [
    "## Read in DEG results\n",
    "Both celltype and genotype."
   ]
  },
  {
   "cell_type": "code",
   "execution_count": null,
   "id": "37b05654-b346-4e61-988b-5825ddd10b09",
   "metadata": {},
   "outputs": [],
   "source": [
    "lfc_cutoff = 1\n",
    "padj_cutoff = 0.01"
   ]
  },
  {
   "cell_type": "code",
   "execution_count": null,
   "id": "694d42d7-f025-454d-9ff8-3dd95d54f3ad",
   "metadata": {},
   "outputs": [],
   "source": [
    "merged_all_tissues = []\n",
    "for tissue in tissues:\n",
    "    \n",
    "    df_genes = pd.read_csv(f'/share/crsp/lab/seyedam/share/igvf_pipeline/figures/degs_old_pbulk_strategy/{tissue}/results_de_analysis_celltypes_no_min_cells.csv')\n",
    "    ct_degs = df_genes[(df_genes['log2FoldChange'] >= lfc_cutoff) & (df_genes['padj'] <= padj_cutoff)]\n",
    "    ct_degs = ct_degs[['gene_name','subtype', 'tissue']].drop_duplicates()\n",
    "\n",
    "    geno_degs_unfilt = pd.read_csv('/share/crsp/lab/seyedam/share/igvf_pipeline/figures/specificity/sig_degs_all_tissues_b6j.csv', index_col = 0)\n",
    "    geno_degs = geno_degs_unfilt[geno_degs_unfilt['tissue'] == tissue]\n",
    "    geno_degs.rename(columns={'celltype': 'subtype'}, inplace=True)\n",
    "    geno_degs = geno_degs[['gene_name', 'subtype', 'genotype', 'tissue']].drop_duplicates()\n",
    "    \n",
    "    merged_df = pd.merge(geno_degs, ct_degs, on=['gene_name', 'subtype', 'tissue'])\n",
    "    \n",
    "    merged_all_tissues.append(merged_df)\n",
    "    \n",
    "final_merged_df = pd.concat(merged_all_tissues, ignore_index=True)\n"
   ]
  },
  {
   "cell_type": "code",
   "execution_count": null,
   "id": "adb8b044-d097-47bf-94be-981afb97e2ef",
   "metadata": {},
   "outputs": [],
   "source": [
    "final_merged_df['subtype_tissue'] = final_merged_df['subtype'] + ' (' + final_merged_df['tissue'] + ')'\n",
    "\n",
    "# Group by genotype and subtype and count unique gene_names\n",
    "gene_counts = final_merged_df.groupby(['genotype', 'subtype_tissue'])['gene_name'].nunique().unstack(fill_value=0)\n",
    "gene_counts=gene_counts.transpose()\n",
    "gene_counts['B6J'] = 0"
   ]
  },
  {
   "cell_type": "code",
   "execution_count": null,
   "id": "e3721ef7-449f-43c6-a560-8b39eca93d6b",
   "metadata": {},
   "outputs": [],
   "source": [
    "df_row['subtype_tissue'] = df_row.index\n",
    "filtered_df_row_degs = df_row[df_row['subtype_tissue'].isin(gene_counts.index)]\n",
    "gene_count_df = gene_counts.loc[filtered_df_row_degs['subtype_tissue'].unique().tolist(),df_col.index.tolist()]\n"
   ]
  },
  {
   "cell_type": "markdown",
   "id": "e710865b-319d-4edd-b534-ae3f450c902b",
   "metadata": {},
   "source": [
    "## Normalize DEG df within tissue"
   ]
  },
  {
   "cell_type": "code",
   "execution_count": null,
   "id": "d0ad4923-90c2-4ac4-9d2e-4708ade728d9",
   "metadata": {},
   "outputs": [],
   "source": [
    "# Merge df and df_row to associate tissues with the main DataFrame\n",
    "df_with_tissue = gene_count_df.merge(filtered_df_row_degs[['Tissue']], left_index=True, right_index=True)\n",
    "\n",
    "normalized_dfs = [] \n",
    "\n",
    "for tissue in tissues:\n",
    "    df_with_tissue_this_tiss = df_with_tissue[df_with_tissue['Tissue'] == tissue]\n",
    "    df_with_tissue_this_tiss = df_with_tissue_this_tiss.drop(columns='Tissue')  \n",
    "    max_value = df_with_tissue_this_tiss.max().max()  # Get max value for this tissue\n",
    "    \n",
    "    normalized_df = df_with_tissue_this_tiss / max_value  # Normalize by max value\n",
    "    normalized_df['Tissue'] = tissue  \n",
    "    \n",
    "    normalized_dfs.append(normalized_df)  # Store in list\n",
    "\n",
    "normalized_df = pd.concat(normalized_dfs)\n",
    "normalized_df = normalized_df.drop(columns='Tissue')\n"
   ]
  },
  {
   "cell_type": "code",
   "execution_count": null,
   "id": "bc8552e9-c2ae-43a9-b434-8728da3e898c",
   "metadata": {},
   "outputs": [],
   "source": [
    "left_ha_filt_degs = pch.HeatmapAnnotation(Tissue=pch.anno_simple(filtered_df_row_degs['Tissue'],\n",
    "                                                                 colors=tissue_dict),\n",
    "                                          label_kws = {'visible': False},\n",
    "                                          plot_kws={'vmax': 100},\n",
    "                                          axis=0)\n"
   ]
  },
  {
   "cell_type": "markdown",
   "id": "e9f38ff0-9e64-49b0-a1b8-c423e79703d9",
   "metadata": {},
   "source": [
    "## Plot full DEG results"
   ]
  },
  {
   "cell_type": "code",
   "execution_count": null,
   "id": "0308369a-a366-4742-aac7-d27b3ac4499f",
   "metadata": {},
   "outputs": [],
   "source": [
    "plt.figure(figsize=(4, 32), dpi = 100)\n",
    "\n",
    "cm = pch.ClusterMapPlotter(data=gene_count_df.loc[filtered_df_row_degs.index.tolist(),df_col.index.tolist()],\n",
    "                           show_rownames = True, \n",
    "                           show_colnames = True, \n",
    "                           cmap = \"magma\",\n",
    "                           label = \"# DEGs\",\n",
    "                           top_annotation=col_ha, \n",
    "                           left_annotation=left_ha_filt_degs,\n",
    "                           row_cluster=False,\n",
    "                           col_cluster=False,\n",
    "                           row_split_gap = 1,\n",
    "                           row_split = filtered_df_row_degs['Tissue'],\n",
    "                           row_split_order = tissues,\n",
    "                           yticklabels_kws={'labelsize': 8},\n",
    "                           xticklabels_kws={'labelsize': 14} \n",
    "                          )\n",
    "\n",
    "plt.show()\n"
   ]
  },
  {
   "cell_type": "code",
   "execution_count": null,
   "id": "fd973daa-3982-49cd-ab49-71332ee0604d",
   "metadata": {},
   "outputs": [],
   "source": [
    "plt.figure(figsize=(4, 32), dpi = 100)\n",
    "\n",
    "cm = pch.ClusterMapPlotter(data=normalized_df.loc[filtered_df_row_degs.index.tolist(),df_col.index.tolist()],\n",
    "                           show_rownames = True, \n",
    "                           show_colnames = True, \n",
    "                           cmap = \"magma\",\n",
    "                           label = \"Normalized\\n# DEGs\",\n",
    "                           top_annotation=col_ha, \n",
    "                           left_annotation=left_ha_filt_degs,\n",
    "                           row_cluster=False,\n",
    "                           col_cluster=False,\n",
    "                           row_split_gap = 1,\n",
    "                           row_split = filtered_df_row_degs['Tissue'],\n",
    "                           row_split_order = tissues,\n",
    "                           yticklabels_kws={'labelsize': 8},\n",
    "                           xticklabels_kws={'labelsize': 14} \n",
    "                          )\n",
    "\n",
    "plt.show()\n"
   ]
  },
  {
   "cell_type": "markdown",
   "id": "98470ca3-9ec5-4910-8cad-23dd0952234c",
   "metadata": {},
   "source": [
    "## Filter celltypes"
   ]
  },
  {
   "cell_type": "code",
   "execution_count": null,
   "id": "03244d87-1ae1-4182-ad24-8af61da5fbe8",
   "metadata": {},
   "outputs": [],
   "source": [
    "filtered_normalized_df = normalized_df[normalized_df.index.isin(keep['subtype_tissue'])]\n",
    "filtered_normalized_df.reset_index(inplace = True)\n",
    "\n",
    "filtered_df_row_degs_final = filtered_df_row_degs[filtered_df_row_degs.index.isin(keep['subtype_tissue'])]\n",
    "filtered_df_row_degs_final.drop(columns='subtype_tissue', inplace = True)\n"
   ]
  },
  {
   "cell_type": "code",
   "execution_count": null,
   "id": "856f4f12-0cab-459f-a15d-87497ab62a3a",
   "metadata": {},
   "outputs": [],
   "source": [
    "# check which subtypes appear in multiple tissues\n",
    "subtype_tissue_counts = filtered_df_row_degs_final.groupby('subtype')['Tissue'].nunique()\n",
    "\n",
    "filtered_df_row_degs_final['unique_subtype'] = filtered_df_row_degs_final.apply(lambda row: modify_unique_subtype(row, subtype_tissue_counts), axis=1)\n",
    "filtered_normalized_df = pd.merge(filtered_normalized_df, filtered_df_row_degs_final[['unique_subtype']], on='subtype_tissue')\n",
    "filtered_normalized_df = filtered_normalized_df.set_index(\"unique_subtype\").drop(columns=[\"subtype_tissue\"])\n",
    "filtered_df_row_degs_final = filtered_df_row_degs_final.set_index(\"unique_subtype\")\n"
   ]
  },
  {
   "cell_type": "code",
   "execution_count": null,
   "id": "3566e69f-6e19-4624-8b4e-b820650290f3",
   "metadata": {},
   "outputs": [],
   "source": [
    "left_ha_filt_degs_final = pch.HeatmapAnnotation(Tissue=pch.anno_simple(filtered_df_row_degs_final['Tissue'],colors=tissue_dict),\n",
    "                                                label_kws = {'visible': False},\n",
    "                                                plot_kws={'vmax': 100},\n",
    "                                                axis=0)\n"
   ]
  },
  {
   "cell_type": "markdown",
   "id": "6fb1c3cf-ac35-4bc9-9bda-1070f1085d21",
   "metadata": {},
   "source": [
    "## Plot"
   ]
  },
  {
   "cell_type": "code",
   "execution_count": null,
   "id": "f7294b22-2e82-4fc6-8764-1a77db48affe",
   "metadata": {},
   "outputs": [],
   "source": [
    "plt.figure(figsize=(3.4, 12), dpi = 300)\n",
    "\n",
    "cm = pch.ClusterMapPlotter(data=filtered_normalized_df.loc[filtered_df_row_degs_final.index.tolist(),df_col.index.tolist()],\n",
    "                           show_rownames = True, \n",
    "                           show_colnames = True, \n",
    "                           cmap = \"magma\",\n",
    "                           label = \"Normalized\\n# DEGs\",\n",
    "                           top_annotation=col_ha, \n",
    "                           left_annotation=left_ha_filt_degs_final,\n",
    "                           row_cluster=False,\n",
    "                           col_cluster=False,\n",
    "                           row_split_gap = 1,\n",
    "                           row_split = filtered_df_row_degs_final['Tissue'],\n",
    "                           row_split_order = tissues,\n",
    "                           yticklabels_kws={'labelsize': 13},\n",
    "                           xticklabels_kws={'labelsize': 16} \n",
    "                          )\n",
    "\n",
    "plt.show()\n"
   ]
  },
  {
   "cell_type": "markdown",
   "id": "4f974af1-2aef-4277-ab11-a3af1e9af80f",
   "metadata": {},
   "source": [
    "# Fig. 2d"
   ]
  },
  {
   "cell_type": "code",
   "execution_count": null,
   "id": "d63b463b-4e91-459f-ae6f-d09897ea62ca",
   "metadata": {},
   "outputs": [],
   "source": [
    "import pandas as pd\n",
    "import matplotlib.pyplot as plt\n",
    "from upsetplot import UpSet, from_indicators\n"
   ]
  },
  {
   "cell_type": "markdown",
   "id": "3f783ebb-5bb2-43fa-922e-92260e06205c",
   "metadata": {},
   "source": [
    "## Select celltype of interest\n",
    "proxtubes.."
   ]
  },
  {
   "cell_type": "code",
   "execution_count": null,
   "id": "447e45a8-9bd5-470a-98c7-7d44ad9749da",
   "metadata": {},
   "outputs": [],
   "source": [
    "celltype = 'proximal tubule epithelial cell'\n",
    "upset_df = final_merged_df[final_merged_df['subtype'] == celltype]\n",
    "upset_df = upset_df[['gene_name', 'genotype']].drop_duplicates()"
   ]
  },
  {
   "cell_type": "markdown",
   "id": "5ff06c2a-d9ae-49bf-b545-3c4a915a1443",
   "metadata": {},
   "source": [
    "## Make upset matrix"
   ]
  },
  {
   "cell_type": "code",
   "execution_count": null,
   "id": "694a03bc-78b2-461c-95fc-ddd387c7d51f",
   "metadata": {},
   "outputs": [],
   "source": [
    "binary_matrix = upset_df.pivot_table(index='gene_name', columns='genotype', aggfunc=lambda x: 1, fill_value=0)\n",
    "binary_matrix = binary_matrix.astype(bool)  # Convert 0/1 to True/False\n"
   ]
  },
  {
   "cell_type": "markdown",
   "id": "2622fd74-c3eb-4709-8886-1f1279db3643",
   "metadata": {},
   "source": [
    "## Plot"
   ]
  },
  {
   "cell_type": "code",
   "execution_count": null,
   "id": "62347a2d-764c-484b-a9d5-14d07625c7b4",
   "metadata": {},
   "outputs": [],
   "source": [
    "upset_data = from_indicators(binary_matrix.columns, binary_matrix)\n",
    "\n",
    "upset = UpSet(upset_data, sort_by = 'cardinality', \n",
    "              sort_categories_by = '-cardinality',\n",
    "              subset_size='count',\n",
    "              max_subset_rank=25,\n",
    "              show_counts = True\n",
    "             )\n",
    "upset.plot()\n",
    "plt.savefig(f\"../fig2/{celltype}_upset_plot.png\", dpi=300, bbox_inches=\"tight\")  \n",
    "plt.savefig(f\"../fig2/{celltype}_upset_plot.pdf\", dpi=300, bbox_inches=\"tight\") \n",
    "\n",
    "plt.show()"
   ]
  },
  {
   "cell_type": "markdown",
   "id": "fe6de17c-11cb-4917-a05b-c04822c7280b",
   "metadata": {},
   "source": [
    "# Fig. 2e"
   ]
  },
  {
   "cell_type": "code",
   "execution_count": null,
   "id": "91657d3e-a29a-4cd7-a430-32a7f69b3d18",
   "metadata": {},
   "outputs": [],
   "source": [
    "genotypes = ['AJ','129S1J','NODJ','NZOJ','CASTJ','PWKJ','WSBJ']\n",
    "\n",
    "import gseapy as gp\n",
    "import numpy as np\n",
    "import re\n",
    "\n",
    "\n",
    "def truncate_term(term, max_length):\n",
    "    if len(term) > max_length:\n",
    "        return term[:max_length] + '...'\n",
    "    return term"
   ]
  },
  {
   "cell_type": "markdown",
   "id": "0675a08f-b188-4ad5-8cd5-f76a9df653d3",
   "metadata": {},
   "source": [
    "## Read in DEG results\n",
    "Keeping track of up/down regulated just in case"
   ]
  },
  {
   "cell_type": "code",
   "execution_count": null,
   "id": "92307a1c-9bb8-4509-b506-aa2e760921c1",
   "metadata": {
    "tags": []
   },
   "outputs": [],
   "source": [
    "merged_all_tissues = []\n",
    "for tissue in tissues:\n",
    "    \n",
    "    df_genes = pd.read_csv(f'/share/crsp/lab/seyedam/share/igvf_pipeline/figures/degs_old_pbulk_strategy/{tissue}/results_de_analysis_celltypes_no_min_cells.csv')\n",
    "    ct_degs = df_genes[(df_genes['log2FoldChange'] >= lfc_cutoff) & (df_genes['padj'] <= padj_cutoff)]\n",
    "    ct_degs = ct_degs[['gene_name','subtype', 'tissue']].drop_duplicates()\n",
    "\n",
    "    geno_degs_unfilt = pd.read_csv('/share/crsp/lab/seyedam/share/igvf_pipeline/figures/specificity/sig_degs_all_tissues_b6j.csv', index_col = 0)\n",
    "    geno_degs = geno_degs_unfilt[geno_degs_unfilt['tissue'] == tissue]\n",
    "    geno_degs.rename(columns={'celltype': 'subtype'}, inplace=True)\n",
    "    mask = geno_degs['comparison'].str.contains('B6J_vs_')\n",
    "    geno_degs.loc[mask, 'log2FoldChange'] = -geno_degs.loc[mask, 'log2FoldChange']\n",
    "    geno_degs['direction'] = np.where(\n",
    "    geno_degs['log2FoldChange'] > 0,\n",
    "        \"Upregulated\", \n",
    "        \"Downregulated\")\n",
    "\n",
    "    \n",
    "    geno_degs = geno_degs[['gene_name', 'subtype', 'genotype', 'tissue','direction']].drop_duplicates()\n",
    "    merged_df = pd.merge(geno_degs, ct_degs, on=['gene_name', 'subtype', 'tissue'])\n",
    "    merged_all_tissues.append(merged_df)\n",
    "    \n",
    "final_merged_df = pd.concat(merged_all_tissues, ignore_index=True)\n",
    "final_merged_df['subtype_tissue'] = final_merged_df['subtype'] + ' (' + final_merged_df['tissue'] + ')'\n",
    "\n"
   ]
  },
  {
   "cell_type": "markdown",
   "id": "60565802-ad3a-426a-a9e3-cfa7ac72fce9",
   "metadata": {},
   "source": [
    "## GO term bubble plot"
   ]
  },
  {
   "cell_type": "code",
   "execution_count": null,
   "id": "2ff8cf1a-0960-4940-b775-ba75989e1a31",
   "metadata": {},
   "outputs": [],
   "source": [
    "tissue = \"Kidney\"\n",
    "final_merged_df_one_at_a_time = final_merged_df[final_merged_df['tissue'] == tissue]\n",
    "#final_merged_df_one_at_a_time = final_merged_df_one_at_a_time[final_merged_df_one_at_a_time['direction'] == 'Upregulated']\n",
    "\n",
    "# just proxtubes for the figure\n",
    "final_merged_df_one_at_a_time = final_merged_df_one_at_a_time[final_merged_df_one_at_a_time['subtype'] == 'proximal tubule epithelial cell']\n",
    "\n",
    "subtype_tissues = final_merged_df_one_at_a_time['subtype_tissue'].unique().tolist()\n"
   ]
  },
  {
   "cell_type": "code",
   "execution_count": null,
   "id": "c4f2fb2a-d3af-4fdc-9ab1-b023007f92a6",
   "metadata": {},
   "outputs": [],
   "source": [
    "for subtype_tissue in subtype_tissues:\n",
    "    \n",
    "    print(f'Processing {subtype_tissue}')\n",
    "    \n",
    "    final_merged_df2 = final_merged_df_one_at_a_time[final_merged_df_one_at_a_time['subtype_tissue'] == subtype_tissue]\n",
    "    n_genes = len(final_merged_df2['gene_name'].unique().tolist())\n",
    "    \n",
    "    if n_genes > 200:\n",
    "        \n",
    "        all_results = []\n",
    "        \n",
    "        genes = final_merged_df2['gene_name'].unique().tolist()\n",
    "            \n",
    "        # Count genes starting with \"Gm\"\n",
    "        gm_count = sum(gene.startswith(\"Gm\") for gene in genes)\n",
    "        gm_prop = (gm_count / n_genes) * 100\n",
    "\n",
    "        # Count genes starting with \"ENSMUS\"\n",
    "        ensmus_count = sum(gene.startswith(\"ENSMUS\") for gene in genes)\n",
    "        ensmus_prop = (ensmus_count / n_genes) * 100\n",
    "\n",
    "        # Count genes ending with \"Rik\"\n",
    "        rik_count = sum(gene.endswith(\"Rik\") for gene in genes)\n",
    "        rik_prop = (rik_count / n_genes) * 100\n",
    "\n",
    "        print(f\"Proportion of genes starting with 'Gm': {gm_prop:.2f}%\")\n",
    "        print(f\"Proportion of genes starting with 'ENSMUS': {ensmus_prop:.2f}%\")\n",
    "        print(f\"Proportion of genes ending with 'Rik': {rik_prop:.2f}%\")\n",
    "\n",
    "        for genotype in genotypes:\n",
    "            specific_genes_geno = final_merged_df2[final_merged_df2['genotype'] == genotype]\n",
    "\n",
    "            genes = specific_genes_geno['gene_name'].unique().tolist()\n",
    "            genes= [gene for gene in genes if not  re.match(r\"Gm\\d+\", gene) ]\n",
    "            # genes = [gene for gene in genes\n",
    "            #          if not gene.startswith(\"ENSMUS\") \n",
    "            #          and not re.match(r\"Gm\\d+\", gene)  # Matches 'Gm' followed by one or more digits\n",
    "            #          and not gene.endswith(\"Rik\")\n",
    "            #         ]\n",
    "\n",
    "            print(f'In {subtype_tissue}, {genotype} has {len(genes)} specific DEGs...')\n",
    "\n",
    "            enr = gp.enrichr(\n",
    "                gene_list=genes,\n",
    "                organism='Mouse', \n",
    "                gene_sets=['Reactome_2022', 'GO_Biological_Process_2023']\n",
    "            )\n",
    "            df = enr.results\n",
    "            df = df.sort_values(by=\"Adjusted P-value\", ascending=True)\n",
    "\n",
    "            df['-log10(Adjusted P-value)'] = -np.log10(df['Adjusted P-value'])\n",
    "            df = df[df['Adjusted P-value'] <= 0.01]\n",
    "\n",
    "            print(f\"...and {df.shape[0]} enriched pathway(s).\")\n",
    "            df['genotype'] = genotype\n",
    "\n",
    "            all_results.append(df)\n",
    "\n",
    "        final_results = pd.concat(all_results, ignore_index=True)\n",
    " \n",
    "        if not final_results.empty:\n",
    "            final_results['Truncated_Term'] = final_results['Term'].apply(lambda x: truncate_term(x, 50))  \n",
    "            final_results['Overlap_Num'] = final_results['Overlap'].apply(lambda x: int(x.split('/')[0])) \n",
    "            final_results['n_genes'] = final_results['Genes'].apply(lambda x: len(x.split(';')))  \n",
    "            final_results['genotype'] = pd.Categorical(final_results['genotype'], categories=genotypes, ordered=True)\n",
    "            final_results['Color'] = final_results['genotype'].map(geno_dict)\n",
    "            \n",
    "            nterms = len(final_results['Truncated_Term'].unique().tolist())\n",
    "\n",
    "            height =  8 + (nterms - 10) * 0.3\n",
    "            plt.figure(figsize=(9, height), dpi = 200)\n",
    "            sns.scatterplot(\n",
    "                data=final_results,\n",
    "                x='-log10(Adjusted P-value)',\n",
    "                y='Truncated_Term',\n",
    "                size='n_genes',\n",
    "                hue='genotype',\n",
    "                palette=geno_dict,\n",
    "                sizes=(50, 500),  \n",
    "                edgecolor='black',\n",
    "                alpha=0.7\n",
    "            )\n",
    "\n",
    "            plt.xlim(0, None)\n",
    "            plt.grid(True)\n",
    "\n",
    "            celltype = subtype_tissue.split(' (')[0]\n",
    "            plt.title(f'Terms enriched in {n_genes} total\\n{celltype}-specific DEGs', fontsize=20)\n",
    "            plt.xlabel('-log10(Adjusted P-value)', fontsize=18)\n",
    "            plt.ylabel('', fontsize=18)\n",
    "            plt.legend(bbox_to_anchor=(1.05, 1), loc='upper left', fontsize=18) # Place legend outside plot\n",
    "            plt.tight_layout()\n",
    "\n",
    "            plt.yticks(fontsize=18) \n",
    "\n",
    "            plt.show()\n",
    "\n",
    "    else:\n",
    "        print(f'Only {n_genes} total genes, skipping GO term enrichment.')"
   ]
  },
  {
   "cell_type": "code",
   "execution_count": null,
   "id": "8c36d29d-1750-4782-a239-d79b29091950",
   "metadata": {},
   "outputs": [],
   "source": [
    "go_genes = sorted(\n",
    "    (\n",
    "    final_results['Genes']\n",
    "    .str.split(';') \n",
    "    .explode()       \n",
    "    .str.capitalize()  \n",
    "    .unique()      \n",
    "    .tolist()     \n",
    "))\n"
   ]
  },
  {
   "cell_type": "code",
   "execution_count": null,
   "id": "2f65106f-9b79-4db4-a75a-519359f0bb9d",
   "metadata": {},
   "outputs": [],
   "source": [
    "# mygene = 'Ugt1a10'\n",
    "# final_results[final_results['Genes'].str.contains(mygene.upper(), case=False)]\n"
   ]
  },
  {
   "cell_type": "code",
   "execution_count": null,
   "id": "599ecbe3-1da2-4ead-a173-f6f6f445c4ff",
   "metadata": {},
   "outputs": [],
   "source": [
    "# final_results[final_results['Term'].str.contains(\"ADME\", case=False)]\n",
    "      "
   ]
  },
  {
   "cell_type": "markdown",
   "id": "7372b5ec-2724-49a1-a962-9c81ea8f0c6e",
   "metadata": {},
   "source": [
    "# Fig. 2f"
   ]
  },
  {
   "cell_type": "code",
   "execution_count": null,
   "id": "6440509f-4fc7-47a6-9d0f-60d2855d5acc",
   "metadata": {},
   "outputs": [],
   "source": [
    "import scanpy as sc\n",
    "import anndata as ad\n",
    "import decoupler as dc\n",
    "import matplotlib.pyplot as plt\n",
    "import seaborn as sns\n",
    "import numpy as np\n",
    "import pandas as pd\n",
    "\n",
    "sex_dict = {\n",
    "    'Female': 'hotpink',\n",
    "    'Male': 'dodgerblue',  \n",
    "    \n",
    "}"
   ]
  },
  {
   "cell_type": "code",
   "execution_count": null,
   "id": "f203b061-49eb-4b4b-88a3-69c7f939aed5",
   "metadata": {},
   "outputs": [],
   "source": [
    "adata = sc.read_h5ad('/share/crsp/lab/seyedam/share/igvf_pipeline/figures/subclustering_subtypes/Kidney/Kidney_proximal_tubule_epithelial_cell_fixed_hvgs_1217.h5ad')\n",
    "\n",
    "obs_copy = adata.obs.copy()\n",
    "obs_copy['ZT'] = obs_copy['ZT'].replace(\"NA\", np.nan)\n",
    "time_dict = obs_copy[obs_copy['ZT'].notna()].groupby('lab_sample_id')['ZT'].first()\n",
    "\n",
    "# Fill missing times using the dictionary\n",
    "obs_copy.loc[obs_copy['ZT'].isna(), 'ZT'] = obs_copy.loc[obs_copy['ZT'].isna(), 'lab_sample_id'].map(time_dict)\n",
    "adata.obs['ZT'] = obs_copy['ZT']\n"
   ]
  },
  {
   "cell_type": "code",
   "execution_count": null,
   "id": "4afc9170-ebd2-4443-a7d9-555d3894bd4a",
   "metadata": {},
   "outputs": [],
   "source": [
    "pbdata = dc.get_pseudobulk(\n",
    "    adata,\n",
    "    sample_col=\"lab_sample_id\",\n",
    "    groups_col=None,\n",
    "    layer = 'cellbender_counts',\n",
    "    mode='sum',\n",
    "    skip_checks=True,\n",
    "    min_cells=10,\n",
    "    min_counts=1000\n",
    ")\n",
    "\n",
    "sc.pp.normalize_total(pbdata, target_sum=1e6)\n",
    "pbulk = pbdata.transpose().to_df()\n"
   ]
  },
  {
   "cell_type": "code",
   "execution_count": null,
   "id": "cc8f1303-6cb9-48cb-9211-ef7c4796d013",
   "metadata": {},
   "outputs": [],
   "source": [
    "genes_of_interest = ['Ugt1a10','Pik3c2g','Cndp2','Acsm1']"
   ]
  },
  {
   "cell_type": "code",
   "execution_count": null,
   "id": "5fb1c58f-f6af-41ce-8e09-a3e747352a7a",
   "metadata": {},
   "outputs": [],
   "source": [
    "def plot_gene(dpadata, gene):\n",
    "    plt.figure(figsize=(10, 6))\n",
    "    pb_df = sc.get.obs_df(dpadata, ['Genotype','Sex',gene])\n",
    "    genotype_categories = ['AJ','B6J','129S1J','NODJ','NZOJ','CASTJ','PWKJ','WSBJ']\n",
    "    sns.violinplot(data=pb_df, x='Genotype', y=gene, inner=None, cut=0, scale='width', order=genotype_categories,\n",
    "                   palette=geno_dict, legend=None)\n",
    "\n",
    "    sns.stripplot(data=pb_df, x='Genotype', y=gene, hue = 'Sex',\n",
    "                  palette = sex_dict,\n",
    "                  size=6, jitter=True,  \n",
    "                  edgecolor='black', linewidth=1,\n",
    "                  order=genotype_categories, legend=None)\n",
    "\n",
    "\n",
    "    plt.title(f'{gene}', fontsize=25)\n",
    "    plt.xlabel('', fontsize=22)\n",
    "    plt.ylabel(f'{gene} Expression (RPM)', fontsize=22)\n",
    "    \n",
    "    plt.xticks(fontsize=20)\n",
    "    plt.yticks(fontsize=20)\n",
    "    plt.ylim(bottom=0)\n",
    "    \n",
    "    plt.show()"
   ]
  },
  {
   "cell_type": "code",
   "execution_count": null,
   "id": "58fc6f5d-7b89-44f3-bf3b-a9dc36a717b5",
   "metadata": {
    "tags": []
   },
   "outputs": [],
   "source": [
    "for gene in genes_of_interest:\n",
    "    plot_gene(pbdata, gene)"
   ]
  },
  {
   "cell_type": "code",
   "execution_count": null,
   "id": "ed6a0d33-7cb2-441b-ae04-d22478fcd48d",
   "metadata": {},
   "outputs": [],
   "source": [
    "def plot_zt_gene(dpadata, gene):\n",
    "    plt.figure(figsize=(10, 6))\n",
    "    \n",
    "    pb_df = sc.get.obs_df(dpadata, ['ZT','Sex',gene])\n",
    "    sns.violinplot(data=pb_df, x='ZT', y=gene, \n",
    "                   inner=None, cut=0, scale='width', \n",
    "                   legend=None)\n",
    "\n",
    "    sns.stripplot(data=pb_df, x='ZT', y=gene, hue = 'Sex',\n",
    "                  palette = sex_dict,\n",
    "                  size=6, jitter=True,  \n",
    "                  edgecolor='black', linewidth=1,\n",
    "                  legend=None)\n",
    "\n",
    "\n",
    "    plt.title(f'{gene}', fontsize=25)\n",
    "    plt.xlabel('', fontsize=22)\n",
    "    plt.ylabel(f'{gene} Expression (RPM)', fontsize=22)\n",
    "    \n",
    "    plt.xticks(fontsize=20, rotation=90, ha='right')\n",
    "    plt.yticks(fontsize=20)\n",
    "    plt.ylim(bottom=0)\n",
    "    \n",
    "    plt.show()"
   ]
  },
  {
   "cell_type": "code",
   "execution_count": null,
   "id": "147cef0f-8b91-4a65-915f-18c24d5f44e5",
   "metadata": {},
   "outputs": [],
   "source": [
    "zt_order = sorted(pbdata.obs['ZT'].unique())\n",
    "pbdata.obs['ZT'] = pd.Categorical(pbdata.obs['ZT'], categories=zt_order, ordered=True)\n"
   ]
  },
  {
   "cell_type": "code",
   "execution_count": null,
   "id": "000ee5b4-a34b-4974-9d7c-c1b60f3c4ace",
   "metadata": {
    "tags": []
   },
   "outputs": [],
   "source": [
    "for gene in genes_of_interest:\n",
    "    plot_zt_gene(pbdata, gene)"
   ]
  },
  {
   "cell_type": "code",
   "execution_count": null,
   "id": "53f69ee4-de3d-41b3-b46d-e74619043479",
   "metadata": {},
   "outputs": [],
   "source": []
  },
  {
   "cell_type": "code",
   "execution_count": null,
   "id": "da9ed5cf-5951-496f-ace1-d181da16921a",
   "metadata": {},
   "outputs": [],
   "source": []
  },
  {
   "cell_type": "code",
   "execution_count": null,
   "id": "b8e53803-9705-4292-b131-c4ea2138852b",
   "metadata": {},
   "outputs": [],
   "source": []
  },
  {
   "cell_type": "code",
   "execution_count": null,
   "id": "7758ea1d-4bea-4943-abcd-55b28c57fec3",
   "metadata": {},
   "outputs": [],
   "source": []
  }
 ],
 "metadata": {
  "kernelspec": {
   "display_name": "Python 3 (ipykernel)",
   "language": "python",
   "name": "python3"
  },
  "language_info": {
   "codemirror_mode": {
    "name": "ipython",
    "version": 3
   },
   "file_extension": ".py",
   "mimetype": "text/x-python",
   "name": "python",
   "nbconvert_exporter": "python",
   "pygments_lexer": "ipython3",
   "version": "3.8.0"
  }
 },
 "nbformat": 4,
 "nbformat_minor": 5
}
